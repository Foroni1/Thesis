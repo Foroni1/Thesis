{
 "cells": [
  {
   "cell_type": "code",
   "execution_count": 1,
   "metadata": {
    "execution": {
     "iopub.execute_input": "2022-01-09T21:44:45.585115Z",
     "iopub.status.busy": "2022-01-09T21:44:45.584789Z",
     "iopub.status.idle": "2022-01-09T21:44:46.482417Z",
     "shell.execute_reply": "2022-01-09T21:44:46.481919Z",
     "shell.execute_reply.started": "2022-01-09T21:44:45.585046Z"
    },
    "executionInfo": {
     "elapsed": 438,
     "status": "ok",
     "timestamp": 1641418649486,
     "user": {
      "displayName": "Alessio Foroni",
      "photoUrl": "https://lh3.googleusercontent.com/a/default-user=s64",
      "userId": "07441004637053053199"
     },
     "user_tz": -60
    },
    "id": "gm7L-lvivrLf",
    "tags": []
   },
   "outputs": [],
   "source": [
    "import pandas as pd\n",
    "import numpy as np\n",
    "import matplotlib.pyplot as plt\n",
    "from datetime import timedelta\n",
    "import datetime\n",
    "import time\n",
    "\n",
    "#import f_drift_burst_v8"
   ]
  },
  {
   "cell_type": "code",
   "execution_count": 2,
   "metadata": {
    "execution": {
     "iopub.execute_input": "2022-01-09T21:44:46.483664Z",
     "iopub.status.busy": "2022-01-09T21:44:46.483455Z",
     "iopub.status.idle": "2022-01-09T21:44:46.694268Z",
     "shell.execute_reply": "2022-01-09T21:44:46.693753Z",
     "shell.execute_reply.started": "2022-01-09T21:44:46.483643Z"
    },
    "executionInfo": {
     "elapsed": 901,
     "status": "ok",
     "timestamp": 1641418650836,
     "user": {
      "displayName": "Alessio Foroni",
      "photoUrl": "https://lh3.googleusercontent.com/a/default-user=s64",
      "userId": "07441004637053053199"
     },
     "user_tz": -60
    },
    "id": "_cLJiXoRwYz9",
    "tags": []
   },
   "outputs": [],
   "source": [
    "import numpy as np\n",
    "from scipy import signal\n",
    "import numbers\n",
    "from inspect import isfunction\n",
    "import datetime"
   ]
  },
  {
   "cell_type": "markdown",
   "metadata": {
    "id": "lrc3tuQicCjz"
   },
   "source": [
    "# Drift Burst calculator"
   ]
  },
  {
   "cell_type": "code",
   "execution_count": 3,
   "metadata": {
    "execution": {
     "iopub.execute_input": "2022-01-09T21:44:46.695356Z",
     "iopub.status.busy": "2022-01-09T21:44:46.695115Z",
     "iopub.status.idle": "2022-01-09T21:44:46.721307Z",
     "shell.execute_reply": "2022-01-09T21:44:46.720890Z",
     "shell.execute_reply.started": "2022-01-09T21:44:46.695334Z"
    },
    "executionInfo": {
     "elapsed": 35,
     "status": "ok",
     "timestamp": 1641418650839,
     "user": {
      "displayName": "Alessio Foroni",
      "photoUrl": "https://lh3.googleusercontent.com/a/default-user=s64",
      "userId": "07441004637053053199"
     },
     "user_tz": -60
    },
    "id": "cGMT5p4CCjio",
    "tags": []
   },
   "outputs": [],
   "source": [
    "class DriftBurst:\n",
    "    \n",
    "    def __init__(self, ti : np.array = [], Xi : np.array = [], titest : np.array = [], *args, **kwargs):\n",
    "        \n",
    "        # To set any optional argument, when creating a DriftBurst object:\n",
    "        # after entering variables ti, Xi, titest,\n",
    "        # insert an ordered tuple (a,a',...) or an ordered list [a,a',...] prefixed by *\n",
    "        # or insert a dictionary {a:a',...} prefixed by **\n",
    "        # Set {a,b,...} structures are not compatible.\n",
    "        \n",
    "        self.ti = ti\n",
    "        self.Xi = Xi\n",
    "        self.titest = titest\n",
    "        self.args = args\n",
    "        self.kwargs = kwargs\n",
    "        self.varargin : dict = {}\n",
    "    \n",
    "    def aux_hac_weight(self, n_aclag):\n",
    "        w = np.arange(1, n_aclag+1)/n_aclag\n",
    "        w = np.where(w <= 0.5, (1 - 6*np.square(w) + 6*np.power(w, 3)), (2 * (1 - w) ** 3)) \n",
    "\n",
    "        return w\n",
    "    \n",
    "    def aux_avar(self, wdXi, n_aclag):\n",
    "        v0 = np.sum(np.square(wdXi))\n",
    "        ac = np.zeros(n_aclag)\n",
    "        for i in range(n_aclag):\n",
    "            ac[i] = np.sum([(wdXi[j - 1] * wdXi[i + j]) for j in range(1, len(wdXi) - i)])\n",
    "        w = self.aux_hac_weight(n_aclag)\n",
    "        avar = v0 + 2 * np.sum(ac * w)\n",
    "        return avar\n",
    "\n",
    "    def aux_noise_lag(self, dXi, n_mu):\n",
    "        c = 2.6614\n",
    "        q = 2\n",
    "        T = n_mu\n",
    "        n = round(4 * (T / 100) ** (4 / 25))\n",
    "        root = 1 / (2 * q + 1)\n",
    "        E_deij = [0] * (n + 1)\n",
    "        for i in range(n + 1):\n",
    "            E_deij[i] = np.mean([(dXi[j - 1] * dXi[i + j]) for j in range(1, len(dXi) - i)])\n",
    "        ac = np.zeros(n)\n",
    "        v0 = -1 * np.sum([((j + 1) * E_deij[j]) for j in range(n + 1)])\n",
    "        for i in range(n):\n",
    "            ac[i] = -1 * np.sum([(j * E_deij[i + j]) for j in range(1, n + 1 - i)])\n",
    "        s0 = v0 + 2 * np.sum(ac)\n",
    "        sq = 2 * np.sum(np.power(np.arange(1,n+1), q) * ac)\n",
    "        try:\n",
    "            gamma = c * (((sq / s0) ** q) ** root)\n",
    "            n_aclag = int(round(gamma * T ** root))\n",
    "        except ValueError:\n",
    "            gamma = 100\n",
    "            n_aclag = int(round(gamma * T ** root))\n",
    "        \n",
    "        return n_aclag\n",
    "        \n",
    "    def aux_check_optional(self):\n",
    "        \n",
    "        optional = ['bndw_m','bndw_v','kernel','k_n','n_aclag']\n",
    "                \n",
    "        if type(self.args) != tuple or type(self.kwargs) != dict:\n",
    "            raise TypeError('invalid input structure')\n",
    "        \n",
    "        if type(self.kwargs) == dict and len(self.kwargs) > 0:\n",
    "            self.varargin = self.kwargs\n",
    "        elif type(self.args) == tuple and len(self.args) > 0:\n",
    "            varargin = [0]\n",
    "            varargin[0] = self.args\n",
    "            nargin = len(varargin[0])\n",
    "            if nargin % 2 != 0:\n",
    "                raise TypeError('wrong number of optional arguments')\n",
    "            else:\n",
    "                for i in range(0, len(varargin[0]) - 1, 2):\n",
    "                    self.varargin[varargin[0][i]] = varargin[0][i+1]\n",
    "        \n",
    "        varname = list(self.varargin.keys())\n",
    "        \n",
    "        for idx in varname:\n",
    "            idx = idx.lower()\n",
    "            if idx not in optional:\n",
    "                raise TypeError('optional argument \"{0}\" invalid'.format(idx))\n",
    "        \n",
    "        if 'bndw_m' not in varname:\n",
    "            self.varargin['bndw_m']  = 300000\n",
    "            self.bndw_m = 300000\n",
    "        elif (np.isscalar(self.varargin['bndw_m']) == 0\n",
    "              or isinstance(self.varargin['bndw_m'], numbers.Number) == 0 or self.varargin['bndw_m'] <= 0):\n",
    "            raise ValueError('optional argument \"bndw_m\" should be a positive number')\n",
    "\n",
    "        if 'bndw_v' not in varname:\n",
    "            self.varargin['bndw_v']  = 1500000\n",
    "            self.bndw_v = 1500000\n",
    "        elif (np.isscalar(self.varargin['bndw_v']) == 0\n",
    "              or isinstance(self.varargin['bndw_v'], numbers.Number) == 0 or self.varargin['bndw_v'] <= 0):\n",
    "            raise ValueError('optional argument \"bndw_v\" should be a positive number')\n",
    "\n",
    "        if 'k_n' not in varname:\n",
    "            self.varargin['k_n']  = 1\n",
    "            self.k_n = 1\n",
    "        elif (np.isscalar(self.varargin['k_n']) == 0 or isinstance(self.varargin['k_n'], numbers.Number) == 0\n",
    "              or self.varargin['k_n'] <= 0 or self.varargin['k_n'] % 1 != 0):\n",
    "            raise ValueError('optional argument \"k_n\" should be a positive integer')\n",
    "        \n",
    "        if 'kernel' not in varname:\n",
    "            self.varargin['kernel']  = lambda x : np.exp(-1 * abs(x)) * (x <= 0)\n",
    "            self.kernel = lambda x : np.exp(-1 * abs(x)) * (x <= 0)\n",
    "        elif isfunction(self.varargin['kernel']) == 0:\n",
    "            raise ValueError('optional argument \"kernel\" is invalid')\n",
    "            \n",
    "        if 'n_aclag' not in varname:\n",
    "            self.varargin['n_aclag']  = -1\n",
    "            self.n_aclag = -1\n",
    "        elif (np.isscalar(self.varargin['n_aclag']) == 0 or isinstance(self.varargin['n_aclag'], numbers.Number) == 0\n",
    "              or self.varargin['n_aclag'] < 0 or self.varargin['n_aclag'] % 1 != 0) and self.varargin['n_aclag'] != -1:\n",
    "            raise ValueError('optional argument \"n_aclag\" should be a positive integer')\n",
    "        \n",
    "        return self.varargin\n",
    "    \n",
    "    def f_drift_burst(self): # computes t-statistics for testing the presence of drift bursts in the process\n",
    "                             # of a Brownian Motion at time/s titest\n",
    "        \n",
    "        self.varargin = self.aux_check_optional()\n",
    "        self.bndw_m = self.varargin['bndw_m']\n",
    "        self.bndw_v = self.varargin['bndw_v']\n",
    "        self.kernel = self.varargin['kernel']\n",
    "        self.k_n = self.varargin['k_n']\n",
    "        self.n_aclag = self.varargin['n_aclag']\n",
    "        \n",
    "        dXi = np.diff(self.Xi)\n",
    "        w = [1] * self.k_n\n",
    "        b = w + list([-1 * w[i] for i in range(self.k_n)])\n",
    "        pdXi = signal.lfilter(b, 1.0, self.Xi)\n",
    "        o = np.zeros(2 * self.k_n - 1)\n",
    "        pdXi = np.append(o[1:], pdXi[(2*self.k_n - 1) :]) if o.size else np.append([0], pdXi[(2*self.k_n - 1) :])\n",
    "        \n",
    "        n_mu = np.zeros(len(self.titest))\n",
    "        mu_t = np.zeros(len(self.titest))\n",
    "        \n",
    "        for i in range(len(self.titest)):\n",
    "            w = self.kernel(((self.ti[:-1] - self.titest[i])/np.timedelta64(1, 'm') / self.bndw_m))\n",
    "            n_mu[i] = (np.sum(w)).astype(float)\n",
    "            idx = np.zeros(len(self.ti) - 1)\n",
    "            idx = (w > 0).astype(int)\n",
    "            mu_t[i] = (np.sum(w * idx * pdXi) / self.bndw_m).astype(float)\n",
    "\n",
    "        n_sigma = np.zeros(len(self.titest))\n",
    "        n_lag = np.zeros(len(self.titest))\n",
    "        var_t = np.zeros(len(self.titest))\n",
    "        \n",
    "        for i in range(len(self.titest)):\n",
    "            w = self.kernel(((self.ti[:-1] - self.titest[i])/np.timedelta64(1, 'm') / self.bndw_v))\n",
    "            n_sigma[i] = (np.sum(w)).astype(float)\n",
    "            idx = np.zeros(len(self.ti) - 1)\n",
    "            idx = (w > 0).astype(int)\n",
    "            if self.n_aclag == -1:\n",
    "                max_lag = 20\n",
    "                idXi = dXi[idx != 0]\n",
    "                q = self.aux_noise_lag(idXi, n_mu[i])\n",
    "                n_lag[i] = min(q, max_lag) + 2 * (self.k_n - 1)\n",
    "                self.n_aclag = -1\n",
    "            else:\n",
    "                n_lag[i] = self.n_aclag\n",
    "                \n",
    "            var_t[i] = (self.aux_avar((w * idx * pdXi), int(n_lag[i])) / self.bndw_v )\n",
    "\n",
    "        db_t = (np.sqrt(self.bndw_m) * mu_t / np.sqrt(var_t))\n",
    "        \n",
    "        return db_t      "
   ]
  },
  {
   "cell_type": "markdown",
   "metadata": {
    "id": "UfmvPf6ccHnD"
   },
   "source": [
    "# Data import"
   ]
  },
  {
   "cell_type": "code",
   "execution_count": 4,
   "metadata": {
    "execution": {
     "iopub.execute_input": "2022-01-09T21:44:46.722831Z",
     "iopub.status.busy": "2022-01-09T21:44:46.722400Z",
     "iopub.status.idle": "2022-01-09T21:45:57.429050Z",
     "shell.execute_reply": "2022-01-09T21:45:57.428515Z",
     "shell.execute_reply.started": "2022-01-09T21:44:46.722808Z"
    },
    "executionInfo": {
     "elapsed": 42248,
     "status": "ok",
     "timestamp": 1641418715924,
     "user": {
      "displayName": "Alessio Foroni",
      "photoUrl": "https://lh3.googleusercontent.com/a/default-user=s64",
      "userId": "07441004637053053199"
     },
     "user_tz": -60
    },
    "id": "LW3REWaUzkw_",
    "tags": []
   },
   "outputs": [],
   "source": [
    "data = pd.read_csv('USA500_market_open.csv')\n",
    "data.drop(columns=['Unnamed: 0'], inplace=True)"
   ]
  },
  {
   "cell_type": "code",
   "execution_count": 5,
   "metadata": {
    "colab": {
     "base_uri": "https://localhost:8080/",
     "height": 206
    },
    "execution": {
     "iopub.execute_input": "2022-01-09T21:45:57.430074Z",
     "iopub.status.busy": "2022-01-09T21:45:57.429863Z",
     "iopub.status.idle": "2022-01-09T21:45:57.441237Z",
     "shell.execute_reply": "2022-01-09T21:45:57.440839Z",
     "shell.execute_reply.started": "2022-01-09T21:45:57.430053Z"
    },
    "executionInfo": {
     "elapsed": 92,
     "status": "ok",
     "timestamp": 1641418715928,
     "user": {
      "displayName": "Alessio Foroni",
      "photoUrl": "https://lh3.googleusercontent.com/a/default-user=s64",
      "userId": "07441004637053053199"
     },
     "user_tz": -60
    },
    "id": "g-P7KRrYzFlo",
    "outputId": "c18b72b3-c4c9-4090-a719-3a02ac5546d0",
    "tags": []
   },
   "outputs": [
    {
     "data": {
      "text/html": [
       "<div>\n",
       "<style scoped>\n",
       "    .dataframe tbody tr th:only-of-type {\n",
       "        vertical-align: middle;\n",
       "    }\n",
       "\n",
       "    .dataframe tbody tr th {\n",
       "        vertical-align: top;\n",
       "    }\n",
       "\n",
       "    .dataframe thead th {\n",
       "        text-align: right;\n",
       "    }\n",
       "</style>\n",
       "<table border=\"1\" class=\"dataframe\">\n",
       "  <thead>\n",
       "    <tr style=\"text-align: right;\">\n",
       "      <th></th>\n",
       "      <th>Timestamp</th>\n",
       "      <th>Bid price</th>\n",
       "      <th>Ask price</th>\n",
       "      <th>Bid volume</th>\n",
       "      <th>Ask volume</th>\n",
       "    </tr>\n",
       "  </thead>\n",
       "  <tbody>\n",
       "    <tr>\n",
       "      <th>0</th>\n",
       "      <td>2013-01-02 15:50:03.590</td>\n",
       "      <td>1426.19</td>\n",
       "      <td>1426.19</td>\n",
       "      <td>1.0</td>\n",
       "      <td>1.0</td>\n",
       "    </tr>\n",
       "    <tr>\n",
       "      <th>1</th>\n",
       "      <td>2013-01-02 15:50:16.559</td>\n",
       "      <td>1439.34</td>\n",
       "      <td>1439.34</td>\n",
       "      <td>1.0</td>\n",
       "      <td>1.0</td>\n",
       "    </tr>\n",
       "    <tr>\n",
       "      <th>2</th>\n",
       "      <td>2013-01-02 15:50:26.637</td>\n",
       "      <td>1440.72</td>\n",
       "      <td>1440.72</td>\n",
       "      <td>1.0</td>\n",
       "      <td>1.0</td>\n",
       "    </tr>\n",
       "    <tr>\n",
       "      <th>3</th>\n",
       "      <td>2013-01-02 15:50:38.210</td>\n",
       "      <td>1441.20</td>\n",
       "      <td>1441.20</td>\n",
       "      <td>1.0</td>\n",
       "      <td>1.0</td>\n",
       "    </tr>\n",
       "    <tr>\n",
       "      <th>4</th>\n",
       "      <td>2013-01-02 15:50:42.624</td>\n",
       "      <td>1442.46</td>\n",
       "      <td>1442.46</td>\n",
       "      <td>1.0</td>\n",
       "      <td>1.0</td>\n",
       "    </tr>\n",
       "  </tbody>\n",
       "</table>\n",
       "</div>"
      ],
      "text/plain": [
       "                 Timestamp  Bid price  Ask price  Bid volume  Ask volume\n",
       "0  2013-01-02 15:50:03.590    1426.19    1426.19         1.0         1.0\n",
       "1  2013-01-02 15:50:16.559    1439.34    1439.34         1.0         1.0\n",
       "2  2013-01-02 15:50:26.637    1440.72    1440.72         1.0         1.0\n",
       "3  2013-01-02 15:50:38.210    1441.20    1441.20         1.0         1.0\n",
       "4  2013-01-02 15:50:42.624    1442.46    1442.46         1.0         1.0"
      ]
     },
     "execution_count": 5,
     "metadata": {},
     "output_type": "execute_result"
    }
   ],
   "source": [
    "data.head()"
   ]
  },
  {
   "cell_type": "code",
   "execution_count": 6,
   "metadata": {
    "colab": {
     "base_uri": "https://localhost:8080/",
     "height": 206
    },
    "execution": {
     "iopub.execute_input": "2022-01-09T21:45:57.442081Z",
     "iopub.status.busy": "2022-01-09T21:45:57.441899Z",
     "iopub.status.idle": "2022-01-09T21:45:57.449114Z",
     "shell.execute_reply": "2022-01-09T21:45:57.448710Z",
     "shell.execute_reply.started": "2022-01-09T21:45:57.442062Z"
    },
    "executionInfo": {
     "elapsed": 44,
     "status": "ok",
     "timestamp": 1641418715934,
     "user": {
      "displayName": "Alessio Foroni",
      "photoUrl": "https://lh3.googleusercontent.com/a/default-user=s64",
      "userId": "07441004637053053199"
     },
     "user_tz": -60
    },
    "id": "7WQAeRfnzI77",
    "outputId": "85ba5230-c568-4629-c435-ec74dba9a69a",
    "tags": []
   },
   "outputs": [
    {
     "data": {
      "text/html": [
       "<div>\n",
       "<style scoped>\n",
       "    .dataframe tbody tr th:only-of-type {\n",
       "        vertical-align: middle;\n",
       "    }\n",
       "\n",
       "    .dataframe tbody tr th {\n",
       "        vertical-align: top;\n",
       "    }\n",
       "\n",
       "    .dataframe thead th {\n",
       "        text-align: right;\n",
       "    }\n",
       "</style>\n",
       "<table border=\"1\" class=\"dataframe\">\n",
       "  <thead>\n",
       "    <tr style=\"text-align: right;\">\n",
       "      <th></th>\n",
       "      <th>Timestamp</th>\n",
       "      <th>Bid price</th>\n",
       "      <th>Ask price</th>\n",
       "      <th>Bid volume</th>\n",
       "      <th>Ask volume</th>\n",
       "    </tr>\n",
       "  </thead>\n",
       "  <tbody>\n",
       "    <tr>\n",
       "      <th>54424795</th>\n",
       "      <td>2021-12-31 21:59:59.767</td>\n",
       "      <td>4766.933</td>\n",
       "      <td>4767.449</td>\n",
       "      <td>0.00225</td>\n",
       "      <td>0.00225</td>\n",
       "    </tr>\n",
       "    <tr>\n",
       "      <th>54424796</th>\n",
       "      <td>2021-12-31 21:59:59.831</td>\n",
       "      <td>4766.943</td>\n",
       "      <td>4767.466</td>\n",
       "      <td>0.00037</td>\n",
       "      <td>0.00037</td>\n",
       "    </tr>\n",
       "    <tr>\n",
       "      <th>54424797</th>\n",
       "      <td>2021-12-31 21:59:59.881</td>\n",
       "      <td>4767.954</td>\n",
       "      <td>4768.464</td>\n",
       "      <td>0.00225</td>\n",
       "      <td>0.00225</td>\n",
       "    </tr>\n",
       "    <tr>\n",
       "      <th>54424798</th>\n",
       "      <td>2021-12-31 21:59:59.932</td>\n",
       "      <td>4767.451</td>\n",
       "      <td>4767.949</td>\n",
       "      <td>0.00225</td>\n",
       "      <td>0.00225</td>\n",
       "    </tr>\n",
       "    <tr>\n",
       "      <th>54424799</th>\n",
       "      <td>2021-12-31 21:59:59.982</td>\n",
       "      <td>4766.633</td>\n",
       "      <td>4767.161</td>\n",
       "      <td>0.00225</td>\n",
       "      <td>0.00225</td>\n",
       "    </tr>\n",
       "  </tbody>\n",
       "</table>\n",
       "</div>"
      ],
      "text/plain": [
       "                        Timestamp  Bid price  Ask price  Bid volume  \\\n",
       "54424795  2021-12-31 21:59:59.767   4766.933   4767.449     0.00225   \n",
       "54424796  2021-12-31 21:59:59.831   4766.943   4767.466     0.00037   \n",
       "54424797  2021-12-31 21:59:59.881   4767.954   4768.464     0.00225   \n",
       "54424798  2021-12-31 21:59:59.932   4767.451   4767.949     0.00225   \n",
       "54424799  2021-12-31 21:59:59.982   4766.633   4767.161     0.00225   \n",
       "\n",
       "          Ask volume  \n",
       "54424795     0.00225  \n",
       "54424796     0.00037  \n",
       "54424797     0.00225  \n",
       "54424798     0.00225  \n",
       "54424799     0.00225  "
      ]
     },
     "execution_count": 6,
     "metadata": {},
     "output_type": "execute_result"
    }
   ],
   "source": [
    "data.tail()"
   ]
  },
  {
   "cell_type": "code",
   "execution_count": 7,
   "metadata": {
    "execution": {
     "iopub.execute_input": "2022-01-09T21:45:57.449968Z",
     "iopub.status.busy": "2022-01-09T21:45:57.449777Z",
     "iopub.status.idle": "2022-01-09T21:46:06.322513Z",
     "shell.execute_reply": "2022-01-09T21:46:06.321891Z",
     "shell.execute_reply.started": "2022-01-09T21:45:57.449939Z"
    },
    "executionInfo": {
     "elapsed": 5598,
     "status": "ok",
     "timestamp": 1641418721493,
     "user": {
      "displayName": "Alessio Foroni",
      "photoUrl": "https://lh3.googleusercontent.com/a/default-user=s64",
      "userId": "07441004637053053199"
     },
     "user_tz": -60
    },
    "id": "XfUKo6g0zJ2J",
    "tags": []
   },
   "outputs": [],
   "source": [
    "data.Timestamp = pd.to_datetime(data.Timestamp, format='%Y-%m-%d %H:%M:%S.%f')"
   ]
  },
  {
   "cell_type": "markdown",
   "metadata": {
    "id": "WtfUj1HEcLPk"
   },
   "source": [
    "# Test calculation"
   ]
  },
  {
   "cell_type": "code",
   "execution_count": null,
   "metadata": {
    "colab": {
     "base_uri": "https://localhost:8080/"
    },
    "execution": {
     "iopub.execute_input": "2022-01-09T21:46:06.323655Z",
     "iopub.status.busy": "2022-01-09T21:46:06.323317Z"
    },
    "executionInfo": {
     "elapsed": 5764084,
     "status": "ok",
     "timestamp": 1641424485535,
     "user": {
      "displayName": "Alessio Foroni",
      "photoUrl": "https://lh3.googleusercontent.com/a/default-user=s64",
      "userId": "07441004637053053199"
     },
     "user_tz": -60
    },
    "id": "iDXlJJvYp7Xh",
    "outputId": "235a6386-4dcf-47af-aa51-9acf49c3589c",
    "tags": []
   },
   "outputs": [
    {
     "name": "stdout",
     "output_type": "stream",
     "text": [
      "2022-01-09 21:46:06.327194\n"
     ]
    }
   ],
   "source": [
    "%%time\n",
    "\n",
    "print(datetime.datetime.today())\n",
    "\n",
    "chunks = [0, 0.2, 0.4, 0.6, 0.8, 1]\n",
    "chunk1 = int(chunks[0]*len(data))\n",
    "chunk2 = int(chunks[1]*len(data))\n",
    "\n",
    "Signal = pd.DataFrame()\n",
    "Signal['Price'] = data['Ask price'].iloc[chunk1:chunk2]\n",
    "Signal['t'] = data.Timestamp.iloc[chunk1:chunk2]\n",
    "\n",
    "# set parameters\n",
    "tau = -1\n",
    "sample_frequency = 100 # sample every 10th observation\n",
    "start = 100 # number of minimum observations \n",
    "bndw_m = [1, 2, 5, 10, 30, 60, 300][0] # time frame (in minutes) for identifying the drift explosion\n",
    "bndw_m = bndw_m*60 # *60 because data is in seconds ('t' is in seconds)\n",
    "\n",
    "zz = {'bndw_m' : bndw_m, 'bndw_v' : 5*bndw_m} \n",
    "Rwindow = [int(0.5*5*bndw_m), int(1*5*bndw_m)] # amount of data points for the function\n",
    "\n",
    "db = []\n",
    "# rolling window \n",
    "for rwindow in Rwindow:\n",
    "    \n",
    "    titel = 'db_t' + '_bndw_m_' + str(bndw_m) + '_rwindow_' + str(rwindow) \n",
    "    \n",
    "    # calculate the signal for each point in time/sample_frequency - runs a few minutes\n",
    "    for tt in Signal.index[start:][::sample_frequency]:\n",
    "           \n",
    "        t = Signal.loc[:tt,'t'][-rwindow:].values\n",
    "        x = Signal.loc[:tt,'Price'][-rwindow:].values\n",
    "        # evaluate function\n",
    "        bm = DriftBurst(t, x, [t[tau]], **zz)\n",
    "        # save t-stat\n",
    "        Signal.loc[tt,titel] = bm.f_drift_burst()[0]\n",
    "\n",
    "    Signal.to_csv('USA500_{}_market_open.csv'.format(titel), mode='a', header=False)"
   ]
  },
  {
   "cell_type": "code",
   "execution_count": null,
   "metadata": {
    "executionInfo": {
     "elapsed": 56,
     "status": "ok",
     "timestamp": 1641424485538,
     "user": {
      "displayName": "Alessio Foroni",
      "photoUrl": "https://lh3.googleusercontent.com/a/default-user=s64",
      "userId": "07441004637053053199"
     },
     "user_tz": -60
    },
    "id": "_dMTYCgkzZO0"
   },
   "outputs": [],
   "source": []
  }
 ],
 "metadata": {
  "colab": {
   "authorship_tag": "ABX9TyOq3wxUJ4Q1x3146xh3BXL/",
   "collapsed_sections": [],
   "name": "test_calculator_eurusd.ipynb",
   "provenance": [],
   "toc_visible": true
  },
  "kernelspec": {
   "display_name": "saturn (Python 3)",
   "language": "python",
   "name": "python3"
  },
  "language_info": {
   "codemirror_mode": {
    "name": "ipython",
    "version": 3
   },
   "file_extension": ".py",
   "mimetype": "text/x-python",
   "name": "python",
   "nbconvert_exporter": "python",
   "pygments_lexer": "ipython3",
   "version": "3.9.9"
  }
 },
 "nbformat": 4,
 "nbformat_minor": 4
}
